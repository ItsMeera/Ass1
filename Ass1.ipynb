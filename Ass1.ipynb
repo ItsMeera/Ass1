{
 "cells": [
  {
   "cell_type": "code",
   "execution_count": 2,
   "metadata": {},
   "outputs": [],
   "source": [
    "class Ticket:\n",
    "    def __init__(self, ticket_number, passenger_name, departure_location, destination, flight_number, date, time, gate, seat_number, electronic_ticket_number):\n",
    "        self.__ticket_number = ticket_number\n",
    "        self.__passenger_name = passenger_name\n",
    "        self.__departure_location = departure_location\n",
    "        self.__destination = destination\n",
    "        self.__flight_number = flight_number\n",
    "        self.__date = date\n",
    "        self.__time = time\n",
    "        self.__gate = gate\n",
    "        self.__seat_number = seat_number\n",
    "        self.__electronic_ticket_number = electronic_ticket_number\n",
    "\n",
    "    def get_ticket_number(self):\n",
    "        pass  # Getter method\n",
    "\n",
    "    def set_ticket_number(self, ticket_number):\n",
    "        pass  # Setter method\n",
    "\n",
    "    def get_passenger_name(self):\n",
    "        pass  # Getter method\n",
    "\n",
    "    def set_passenger_name(self, passenger_name):\n",
    "        pass  # Setter method\n",
    "    \n",
    "    #similar for all -------------------\n",
    "\n",
    "    def display_details(self):\n",
    "        pass  # Display ticket details function"
   ]
  },
  {
   "cell_type": "code",
   "execution_count": 3,
   "metadata": {},
   "outputs": [],
   "source": [
    "class BoardingPass:\n",
    "    def __init__(self, passenger_name, departure_location, destination, flight_number, date, time, gate, boarding_time, seat_number, arrival_time, terminal, electronic_ticket_number):\n",
    "        self.__passenger_name = passenger_name\n",
    "        self.__departure_location = departure_location\n",
    "        self.__destination = destination\n",
    "        self.__flight_number = flight_number\n",
    "        self.__date = date\n",
    "        self.__time = time\n",
    "        self.__gate = gate\n",
    "        self.__boarding_time = boarding_time\n",
    "        self.__seat_number = seat_number\n",
    "        self.__arrival_time = arrival_time\n",
    "        self.__terminal = terminal\n",
    "        self.__electronic_ticket_number = electronic_ticket_number\n",
    "\n",
    "    def get_passenger_name(self):\n",
    "        pass  # Getter method\n",
    "\n",
    "    def set_passenger_name(self, passenger_name):\n",
    "        pass  # Setter method\n",
    "\n",
    "    def get_boarding_time(self):\n",
    "        pass  # Getter method\n",
    "\n",
    "    def set_boarding_time(self, boarding_time):\n",
    "        pass  # Setter method\n",
    "\n",
    "    #similar for all -------------------\n",
    "\n",
    "\n",
    "    def display_details(self):\n",
    "        pass  # Display boarding pass details function"
   ]
  },
  {
   "cell_type": "code",
   "execution_count": 4,
   "metadata": {},
   "outputs": [],
   "source": [
    "class Flight:\n",
    "    def __init__(self, flight_number, departure_location, destination, date, time, gate, terminal):\n",
    "        self.__flight_number = flight_number\n",
    "        self.__departure_location = departure_location\n",
    "        self.__destination = destination\n",
    "        self.__date = date\n",
    "        self.__time = time\n",
    "        self.__gate = gate\n",
    "        self.__terminal = terminal\n",
    "\n",
    "    def get_flight_number(self):\n",
    "        pass  # Getter method\n",
    "\n",
    "    def set_flight_number(self, flight_number):\n",
    "        pass  # Setter method\n",
    "\n",
    "    def get_departure_location(self):\n",
    "        pass  # Getter method\n",
    "\n",
    "    def set_departure_location(self, departure_location):\n",
    "        pass  # Setter method\n",
    "\n",
    "    #similar for all -------------------"
   ]
  },
  {
   "cell_type": "code",
   "execution_count": 5,
   "metadata": {},
   "outputs": [],
   "source": [
    "class Passenger:\n",
    "    def __init__(self, passenger_name, electronic_ticket_number):\n",
    "        self.__passenger_name = passenger_name\n",
    "        self.__electronic_ticket_number = electronic_ticket_number\n",
    "\n",
    "    def get_passenger_name(self):\n",
    "        pass  # Getter method\n",
    "\n",
    "    def set_passenger_name(self, passenger_name):\n",
    "        pass  # Setter method\n",
    "\n",
    "    def get_electronic_ticket_number(self):\n",
    "        pass  # Getter method\n",
    "\n",
    "    def set_electronic_ticket_number(self, electronic_ticket_number):\n",
    "        pass  # Setter method"
   ]
  },
  {
   "cell_type": "code",
   "execution_count": 9,
   "metadata": {},
   "outputs": [],
   "source": [
    "# passenger_name, departure_location, destination, flight_number, date, time, gate, boarding_time, seat_number, arrival_time, terminal, electronic_ticket_number\n",
    "# Creating objects\n",
    "ticket_obj = Ticket(\"James Smith\", \"Chicago ORD\", \"New York JFK\", \"NA4321\", \"06 Dec 20\", \"11:40\", \"03\", \"09A\", 629, \"First Class\")\n",
    "boarding_pass_obj = BoardingPass(\"James Smith\", \"Chicago ORD\", \"New York JFK\", \"NA4321\", \"06 Dec 20\", \"11:40\", \"03\", \"11:20\", \"09A\", \"13:30\", 2, 629)\n",
    "flight_obj = Flight(\"NA4321\", \"Chicago ORD\", \"New York JFK\", \"06 Dec 20\", \"11:40\", \"03\", 2)\n",
    "passenger_obj = Passenger(\"James Smith\", 629)\n",
    "\n",
    "# Displaying details\n",
    "ticket_obj.display_details()\n",
    "boarding_pass_obj.display_details()"
   ]
  },
  {
   "cell_type": "code",
   "execution_count": null,
   "metadata": {},
   "outputs": [],
   "source": []
  },
  {
   "cell_type": "code",
   "execution_count": null,
   "metadata": {},
   "outputs": [],
   "source": []
  }
 ],
 "metadata": {
  "kernelspec": {
   "display_name": "Python 3",
   "language": "python",
   "name": "python3"
  },
  "language_info": {
   "codemirror_mode": {
    "name": "ipython",
    "version": 3
   },
   "file_extension": ".py",
   "mimetype": "text/x-python",
   "name": "python",
   "nbconvert_exporter": "python",
   "pygments_lexer": "ipython3",
   "version": "3.11.3"
  }
 },
 "nbformat": 4,
 "nbformat_minor": 2
}
